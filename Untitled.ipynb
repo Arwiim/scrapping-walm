{
 "cells": [
  {
   "cell_type": "code",
   "execution_count": null,
   "id": "3e936820-e866-4cb2-9df7-769c53aac147",
   "metadata": {},
   "outputs": [],
   "source": [
    "from bs4 import BeautifulSoup\n",
    "import requests\n",
    "import pandas as pd\n",
    "import json"
   ]
  },
  {
   "cell_type": "code",
   "execution_count": 212,
   "id": "93689399-658f-4d4e-92ed-0246252e4278",
   "metadata": {},
   "outputs": [],
   "source": [
    "api_endpoint = \"https://www.walmart.com.ar/buscapagina?sl=63c6cac5-a4b5-4191-a52a-65582db8f8b3&PS=48&cc=50&PageNumber=2&O=OrderByReviewRateDESC&sm=0&fq=C:/1/&sc=15\"\n",
    "api_endpoint = \"https://www.walmart.com.ar/buscapagina?sl=63c6cac5-a4b5-4191-a52a-65582db8f8b3&PS=48&cc=50&PageNumber=1&O=OrderByReviewRateDESC&sm=0&fq=C:/1/2/&sc=15\"\n",
    "r = requests.get(api_endpoint)"
   ]
  },
  {
   "cell_type": "code",
   "execution_count": 213,
   "id": "89ed2c2c-b04c-4f79-84ae-d089a710cab0",
   "metadata": {},
   "outputs": [],
   "source": [
    "soup = BeautifulSoup(r.content, 'lxml')\n",
    "product_list = soup.find_all('li', attrs={'layout': '63c6cac5-a4b5-4191-a52a-65582db8f8b3'})\n"
   ]
  },
  {
   "cell_type": "code",
   "execution_count": 214,
   "id": "9cf38990-4f7d-4fd7-8588-3e6520bef28b",
   "metadata": {},
   "outputs": [
    {
     "name": "stdout",
     "output_type": "stream",
     "text": [
      "0\n",
      "1\n",
      "2\n",
      "3\n",
      "4\n",
      "5\n",
      "6\n",
      "7\n",
      "8\n",
      "9\n",
      "10\n",
      "11\n",
      "12\n",
      "13\n",
      "14\n",
      "15\n",
      "16\n",
      "17\n",
      "18\n",
      "19\n",
      "20\n",
      "21\n",
      "22\n",
      "23\n",
      "24\n",
      "25\n",
      "26\n",
      "27\n",
      "28\n",
      "29\n",
      "30\n",
      "31\n",
      "32\n",
      "33\n",
      "34\n",
      "35\n",
      "36\n",
      "37\n",
      "38\n",
      "39\n",
      "40\n",
      "41\n",
      "42\n",
      "43\n",
      "44\n",
      "45\n",
      "46\n",
      "47\n"
     ]
    }
   ],
   "source": [
    "for x, i in enumerate(product_list):\n",
    "    print(x)"
   ]
  },
  {
   "cell_type": "code",
   "execution_count": null,
   "id": "422cb61b-f461-42d3-be09-68bb5d424d60",
   "metadata": {},
   "outputs": [],
   "source": [
    "soup = BeautifulSoup(r.content, 'lxml')"
   ]
  },
  {
   "cell_type": "code",
   "execution_count": null,
   "id": "9557a739-fc12-4918-b812-1651c3035755",
   "metadata": {},
   "outputs": [],
   "source": [
    "soup"
   ]
  },
  {
   "cell_type": "code",
   "execution_count": 203,
   "id": "b327e200-e4c6-46b5-ac56-34167ce8f740",
   "metadata": {},
   "outputs": [
    {
     "name": "stdout",
     "output_type": "stream",
     "text": [
      "2\n"
     ]
    }
   ],
   "source": [
    "items_list = []\n",
    "api_endpoint = \"https://www.walmart.com.ar/buscapagina?sl=63c6cac5-a4b5-4191-a52a-65582db8f8b3&PS=48&cc=50&PageNumber={}&O=OrderByReviewRateDESC&sm=0&fq=C:/1/&sc=15\"\n",
    "for x in range(2,3):\n",
    "    print(x)\n",
    "    r = requests.get(api_endpoint.format(x))\n",
    "    if not r.content: print(x); break\n",
    "    soup = BeautifulSoup(r.content, 'lxml')\n",
    "    product_list = soup.find_all('li', attrs={'layout': '63c6cac5-a4b5-4191-a52a-65582db8f8b3'})\n",
    "    for product in product_list:\n",
    "        item = {}\n",
    "        link = product.find('a', href=True)\n",
    "        price = product.find('span', attrs={'itemprop':'price'}).text.strip()\n",
    "        name = product.find('a', attrs={'itemprop':'name'}).text.strip()\n",
    "        item['link'] = link['href']\n",
    "        item['price'] = price\n",
    "        item['name'] = name\n",
    "        # end basic data\n",
    "        sku_data = product.find('div', attrs={'class':'skuData hidden'})\n",
    "        convert_data_json = json.loads(sku_data.find('li').text)\n",
    "        key = next(iter(convert_data_json))\n",
    "        item['ref_id'] = convert_data_json[key]['ref_id']\n",
    "        item['cart_limit'] = convert_data_json[key]['cart_limit']\n",
    "        item['allow_substitute'] = convert_data_json[key]['allow_substitute']\n",
    "        item['measurement_unit'] = convert_data_json[key]['measurement_unit']\n",
    "        item['unit_multiplier'] = convert_data_json[key]['unit_multiplier']\n",
    "        item['measurement_unit_un'] = convert_data_json[key].get('measurement_unit_un')\n",
    "        item['unit_multiplier_un'] = convert_data_json[key]['unit_multiplier_un']\n",
    "        item['date_release'] = convert_data_json[key].get('release_data', {}).get('date_release')\n",
    "        item['is_new'] = convert_data_json[key].get('release_data', {}).get('is_new')\n",
    "        items_list.append(item)\n",
    "    break\n",
    "        "
   ]
  },
  {
   "cell_type": "code",
   "execution_count": null,
   "id": "d400c929-0942-426d-a37f-dba5d74cdd2e",
   "metadata": {},
   "outputs": [],
   "source": []
  },
  {
   "cell_type": "code",
   "execution_count": 204,
   "id": "28123ac3-078a-48f7-8009-33154fe91501",
   "metadata": {},
   "outputs": [
    {
     "data": {
      "text/plain": [
       "48"
      ]
     },
     "execution_count": 204,
     "metadata": {},
     "output_type": "execute_result"
    }
   ],
   "source": [
    "len(items_list)"
   ]
  },
  {
   "cell_type": "code",
   "execution_count": null,
   "id": "33181fa3-a1b5-4088-adcc-86fdb84b0929",
   "metadata": {},
   "outputs": [],
   "source": [
    "for product in product_list:\n",
    "    w = product.find('div', attrs={'class':'skuData hidden'})\n",
    "    js = json.loads(w.find('li').text)\n",
    "    for key, value in js[next(iter(js))].items():\n",
    "        print(key, value)\n",
    "    break"
   ]
  },
  {
   "cell_type": "code",
   "execution_count": null,
   "id": "f8c32859-9d76-4978-bf7f-f5b271aef98e",
   "metadata": {},
   "outputs": [],
   "source": [
    "item"
   ]
  },
  {
   "cell_type": "code",
   "execution_count": null,
   "id": "0e1d22f5-7d2c-4e4a-8aa0-9e2982b60b83",
   "metadata": {},
   "outputs": [],
   "source": [
    "len(product_price)"
   ]
  },
  {
   "cell_type": "code",
   "execution_count": null,
   "id": "529a8350-6411-4df2-82fe-aeb7f9529a64",
   "metadata": {},
   "outputs": [],
   "source": [
    "for_df = {'link': product_link, 'price': product_price}"
   ]
  },
  {
   "cell_type": "code",
   "execution_count": null,
   "id": "6786819e-66bd-414c-89fb-f006eb76dad4",
   "metadata": {},
   "outputs": [],
   "source": [
    "df = pd.DataFrame(items_list)"
   ]
  },
  {
   "cell_type": "code",
   "execution_count": null,
   "id": "05faa7f2-9a37-4fe0-b834-101621806b30",
   "metadata": {},
   "outputs": [],
   "source": [
    "df"
   ]
  },
  {
   "cell_type": "code",
   "execution_count": null,
   "id": "35825a02-f296-4b9d-a036-319df97a19d2",
   "metadata": {},
   "outputs": [],
   "source": [
    "bool_series = df.duplicated()"
   ]
  },
  {
   "cell_type": "code",
   "execution_count": null,
   "id": "19f846f8-7890-4e39-96a2-85cd90a041aa",
   "metadata": {},
   "outputs": [],
   "source": [
    "bool_series"
   ]
  },
  {
   "cell_type": "code",
   "execution_count": null,
   "id": "1a3edd26-9c3e-4c49-bad1-65a219e55020",
   "metadata": {},
   "outputs": [],
   "source": []
  }
 ],
 "metadata": {
  "kernelspec": {
   "display_name": "Python 3 (ipykernel)",
   "language": "python",
   "name": "python3"
  },
  "language_info": {
   "codemirror_mode": {
    "name": "ipython",
    "version": 3
   },
   "file_extension": ".py",
   "mimetype": "text/x-python",
   "name": "python",
   "nbconvert_exporter": "python",
   "pygments_lexer": "ipython3",
   "version": "3.8.10"
  }
 },
 "nbformat": 4,
 "nbformat_minor": 5
}
